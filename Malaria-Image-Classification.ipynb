{
  "cells": [
    {
      "cell_type": "markdown",
      "metadata": {
        "id": "-BtcrigMyX5G"
      },
      "source": [
        "# Buliding CNN model for classification of Malaria Infected Red Blood Cells. \n",
        "\n",
        "**The code contains the following aspects:**\n",
        "1. Data Labeling\n",
        "2. Data Preprocessing (Image Agumentation)\n",
        "3. Creating train/test datasets\n",
        "4. Implementation of CNN model\n",
        "5. Prediction\n",
        "6. Analysing the prediction using confusion matrix"
      ]
    },
    {
      "cell_type": "markdown",
      "metadata": {
        "id": "e2eTahdFYgHV"
      },
      "source": [
        "# Packages Used"
      ]
    },
    {
      "cell_type": "code",
      "execution_count": 1,
      "metadata": {
        "id": "IS6KrQGDddIB"
      },
      "outputs": [],
      "source": [
        "import numpy as np\n",
        "import pandas as pd \n",
        "import tensorflow as tf\n",
        "import cv2\n",
        "import matplotlib.pyplot as plt\n",
        "import seaborn as sns\n",
        "from PIL import Image\n",
        "import os\n",
        "\n",
        "from sklearn.model_selection import train_test_split\n",
        "from sklearn.metrics import confusion_matrix , classification_report , accuracy_score\n",
        "from mlxtend.plotting import plot_confusion_matrix\n",
        "\n",
        "from tensorflow.keras.models import Sequential\n",
        "from tensorflow.keras.layers import Dense, Conv2D, Flatten, Dropout, MaxPooling2D, GlobalAveragePooling2D, BatchNormalization, Activation\n",
        "from keras import backend as K\n",
        "from keras import optimizers\n",
        "from tensorflow.keras.utils import to_categorical\n",
        "\n",
        "from tensorflow.keras.preprocessing.image import ImageDataGenerator"
      ]
    },
    {
      "cell_type": "markdown",
      "metadata": {
        "id": "hjIyl05pyS81"
      },
      "source": [
        "# Loading Dataset"
      ]
    },
    {
      "cell_type": "code",
      "execution_count": null,
      "metadata": {
        "id": "4Uo3SShEzPH4"
      },
      "outputs": [],
      "source": [
        "!mkdir -p ~/.kaggle\n",
        "\n",
        "# Colab library to upload files to notebook\n",
        "from google.colab import files\n",
        "\n",
        "# Install Kaggle library\n",
        "!pip install -q kaggle\n",
        "\n",
        "uploaded = files.upload()"
      ]
    },
    {
      "cell_type": "code",
      "execution_count": 3,
      "metadata": {
        "id": "uUZ9DHxigIBs"
      },
      "outputs": [],
      "source": [
        "!cp kaggle.json ~/.kaggle/"
      ]
    },
    {
      "cell_type": "code",
      "execution_count": null,
      "metadata": {
        "id": "KVV-KzGRgTWy"
      },
      "outputs": [],
      "source": [
        "!kaggle datasets download -d iarunava/cell-images-for-detecting-malaria\n",
        "!ls"
      ]
    },
    {
      "cell_type": "code",
      "execution_count": null,
      "metadata": {
        "id": "Mwtupy74jChS"
      },
      "outputs": [],
      "source": [
        "!unzip cell-images-for-detecting-malaria.zip\n",
        "!ls"
      ]
    },
    {
      "cell_type": "markdown",
      "metadata": {
        "id": "kb1cyobfyLYg"
      },
      "source": [
        "# Data Preprocessing"
      ]
    },
    {
      "cell_type": "code",
      "execution_count": 6,
      "metadata": {
        "colab": {
          "base_uri": "https://localhost:8080/"
        },
        "id": "hrOhjWDcjMOb",
        "outputId": "caca1d8b-43e2-4899-dfcf-c89498ebc546"
      },
      "outputs": [
        {
          "output_type": "stream",
          "name": "stdout",
          "text": [
            "['Uninfected', 'Parasitized']\n"
          ]
        }
      ],
      "source": [
        "print(os.listdir(\"./cell_images/cell_images\"))"
      ]
    },
    {
      "cell_type": "code",
      "execution_count": 7,
      "metadata": {
        "id": "vLYZKDTfjakN"
      },
      "outputs": [],
      "source": [
        "infected = os.listdir('./cell_images/cell_images/Parasitized/') \n",
        "uninfected = os.listdir('./cell_images/cell_images/Uninfected/')"
      ]
    },
    {
      "cell_type": "code",
      "execution_count": null,
      "metadata": {
        "id": "Gyh_tOwUjoWn"
      },
      "outputs": [],
      "source": [
        "data = []\n",
        "labels = []\n",
        "data_rotate = []\n",
        "labels_rotate = []\n",
        "data_blur = []\n",
        "labels_blur = []\n",
        "\n",
        "for i in infected:\n",
        "    try:\n",
        "    \n",
        "        image = cv2.imread(\"./cell_images/cell_images/Parasitized/\"+i)\n",
        "        image_array = Image.fromarray(image , 'RGB')\n",
        "        resize_img = image_array.resize((50 , 50)) #image resizing\n",
        "        rotated120 = resize_img.rotate(120) #rotation\n",
        "        blur = cv2.blur(np.array(resize_img) ,(10,10)) #bluring\n",
        "        data.append(np.array(resize_img))\n",
        "        data_rotate.append(np.array(rotated120))\n",
        "        data_blur.append(np.array(blur))\n",
        "        label = to_categorical(1, num_classes=2) \n",
        "        labels.append(label)\n",
        "        label_rotate = to_categorical(1, num_classes=2) \n",
        "        labels_rotate.append(label_rotate)\n",
        "        label_blur = to_categorical(1, num_classes=2) \n",
        "        labels_blur.append(label_blur)\n",
        "        \n",
        "        \n",
        "        \n",
        "    except AttributeError:\n",
        "        print('')\n",
        "    \n",
        "for u in uninfected:\n",
        "    try:\n",
        "        \n",
        "        image = cv2.imread(\"./cell_images/cell_images/Uninfected/\"+u)\n",
        "        image_array = Image.fromarray(image , 'RGB')\n",
        "        resize_img = image_array.resize((50 , 50)) #image resizing\n",
        "        rotated120 = resize_img.rotate(120) #rotation\n",
        "        blur = cv2.blur(np.array(resize_img) ,(10,10)) #bluring\n",
        "        data.append(np.array(resize_img))\n",
        "        data_rotate.append(np.array(rotated120))\n",
        "        data_blur.append(np.array(blur)) \n",
        "        label = to_categorical(0, num_classes=2) \n",
        "        labels.append(label)\n",
        "        label_rotate = to_categorical(0, num_classes=2) \n",
        "        labels_rotate.append(label_rotate)\n",
        "        label_blur = to_categorical(0, num_classes=2) \n",
        "        labels_blur.append(label_blur)\n",
        "        \n",
        "    except AttributeError:\n",
        "        print('')\n",
        "\n",
        "data = np.array(data)\n",
        "data_rotate = np.array(data_rotate)\n",
        "data_blur = np.array(data_blur)\n",
        "labels = np.array(labels)\n",
        "labels_rotate = np.array(labels_rotate)\n",
        "labels_blur = np.array(labels_blur)\n",
        "\n",
        "\n",
        "np.save('Data' , data)\n",
        "np.save('Labels' , labels)\n",
        "np.save('Data_Rotate' , data_rotate)\n",
        "np.save('Labels_Rotate' , labels_rotate)\n",
        "np.save('Data_Blur' , data_blur)\n",
        "np.save('Labels_Blur' , labels_blur)"
      ]
    },
    {
      "cell_type": "code",
      "execution_count": 9,
      "metadata": {
        "colab": {
          "base_uri": "https://localhost:8080/",
          "height": 431
        },
        "id": "lQ0dXH828j25",
        "outputId": "bfa66a89-84c4-484b-9311-4b97145b4968"
      },
      "outputs": [
        {
          "output_type": "display_data",
          "data": {
            "text/plain": [
              "<Figure size 720x504 with 6 Axes>"
            ],
            "image/png": "[encoded data removed]"
          },
          "metadata": {}
        }
      ],
      "source": [
        "plt.figure(3, figsize = (10 , 7))\n",
        "plt.subplot(3 , 2 , 1)\n",
        "plt.imshow(data[10])\n",
        "plt.title('Infected Cell')\n",
        "plt.xticks([]) , plt.yticks([])\n",
        "\n",
        "plt.subplot(3 , 2 , 2)\n",
        "plt.imshow(data[15000])\n",
        "plt.title('Uninfected Cell')\n",
        "plt.xticks([]) , plt.yticks([])\n",
        "\n",
        "plt.subplot(3 , 2 , 3)\n",
        "plt.imshow(data_rotate[10])\n",
        "plt.title('Infected Rotated Cell')\n",
        "plt.xticks([]) , plt.yticks([])\n",
        "\n",
        "plt.subplot(3 , 2 , 4)\n",
        "plt.imshow(data_rotate[15000])\n",
        "plt.title('Uninfected Rotated Cell')\n",
        "plt.xticks([]) , plt.yticks([])\n",
        "\n",
        "plt.subplot(3 , 2 , 5)\n",
        "plt.imshow(data_blur[10])\n",
        "plt.title('Infected Blurred Cell')\n",
        "plt.xticks([]) , plt.yticks([])\n",
        "\n",
        "plt.subplot(3 , 2 , 6)\n",
        "plt.imshow(data_blur[15000])\n",
        "plt.title('Uninfected Blurred Cell')\n",
        "plt.xticks([]) , plt.yticks([])\n",
        "\n",
        "plt.show()"
      ]
    },
    {
      "cell_type": "code",
      "execution_count": 10,
      "metadata": {
        "id": "9e80ZFehN1k8"
      },
      "outputs": [],
      "source": [
        "n = np.arange(data.shape[0]) #shuffle images\n",
        "np.random.shuffle(n)\n",
        "data = data[n]\n",
        "labels = labels[n]\n",
        "\n",
        "np.random.shuffle(n)\n",
        "data_rotate = data_rotate[n]\n",
        "labels_rotate = labels_rotate[n]\n",
        "\n",
        "np.random.shuffle(n)\n",
        "data_blur = data_blur[n]\n",
        "labels_blur = labels_blur[n]"
      ]
    },
    {
      "cell_type": "code",
      "execution_count": 11,
      "metadata": {
        "id": "0tN9g41lOEwW"
      },
      "outputs": [],
      "source": [
        "data = data.astype(np.float32)\n",
        "labels = labels.astype(np.int32)\n",
        "data = data/255 #reduce weight\n",
        "\n",
        "data_rotate = data_rotate.astype(np.float32)\n",
        "labels_rotate = labels_rotate.astype(np.int32)\n",
        "data_rotate = data_rotate/255\n",
        "\n",
        "data_blur = data_blur.astype(np.float32)\n",
        "labels_blur = labels_blur.astype(np.int32)\n",
        "data_blur = data_blur/255"
      ]
    },
    {
      "cell_type": "code",
      "source": [
        "X = np.append(data, data_rotate, axis=0)\n",
        "X = np.append(X, data_blur, axis=0)\n",
        "\n",
        "Y = np.append(labels, labels_rotate, axis=0)\n",
        "Y = np.append(Y, labels_blur, axis=0)"
      ],
      "metadata": {
        "id": "hAdce6EChglC"
      },
      "execution_count": 12,
      "outputs": []
    },
    {
      "cell_type": "code",
      "source": [
        "n = np.arange(X.shape[0]) #shuffle images\n",
        "np.random.shuffle(n)\n",
        "X = X[n]\n",
        "Y = Y[n]"
      ],
      "metadata": {
        "id": "RxZ6IpaAiiJj"
      },
      "execution_count": 13,
      "outputs": []
    },
    {
      "cell_type": "code",
      "execution_count": 14,
      "metadata": {
        "colab": {
          "base_uri": "https://localhost:8080/"
        },
        "id": "TTE3s7IM8ZaQ",
        "outputId": "11898bb3-54e2-417f-ca8c-6049731ae996"
      },
      "outputs": [
        {
          "output_type": "stream",
          "name": "stdout",
          "text": [
            "Cells : (82674, 50, 50, 3) | Labels : (82674, 2)\n"
          ]
        }
      ],
      "source": [
        "print('Cells : {} | Labels : {}'.format(X.shape , Y.shape))"
      ]
    },
    {
      "cell_type": "markdown",
      "metadata": {
        "id": "Oo83kwwVNrQD"
      },
      "source": [
        "# Train Test Split\n"
      ]
    },
    {
      "cell_type": "code",
      "execution_count": 15,
      "metadata": {
        "id": "SVS_OAX3NpAL"
      },
      "outputs": [],
      "source": [
        "x_train, x_test, y_train, y_test = train_test_split(X, Y, test_size=0.3, random_state=0)"
      ]
    },
    {
      "cell_type": "code",
      "execution_count": 16,
      "metadata": {
        "colab": {
          "base_uri": "https://localhost:8080/"
        },
        "id": "_n1Ya1hW-jeY",
        "outputId": "58d968cc-a07a-41b3-836d-18d4459fe883"
      },
      "outputs": [
        {
          "output_type": "stream",
          "name": "stdout",
          "text": [
            "SHAPE OF TRAINING IMAGE DATA : (57871, 50, 50, 3)\n",
            "SHAPE OF TESTING IMAGE DATA : (24803, 50, 50, 3)\n",
            "SHAPE OF TRAINING LABELS : (57871, 2)\n",
            "SHAPE OF TESTING LABELS : (24803, 2)\n"
          ]
        }
      ],
      "source": [
        "print(f'SHAPE OF TRAINING IMAGE DATA : {x_train.shape}')\n",
        "print(f'SHAPE OF TESTING IMAGE DATA : {x_test.shape}')\n",
        "print(f'SHAPE OF TRAINING LABELS : {y_train.shape}')\n",
        "print(f'SHAPE OF TESTING LABELS : {y_test.shape}')"
      ]
    },
    {
      "cell_type": "markdown",
      "metadata": {
        "id": "Z-1DORxOyCZh"
      },
      "source": [
        "# CNN Model"
      ]
    },
    {
      "cell_type": "markdown",
      "metadata": {
        "id": "UoSPvX61Molf"
      },
      "source": [
        "**Building CNN Layers**"
      ]
    },
    {
      "cell_type": "code",
      "execution_count": 17,
      "metadata": {
        "id": "pwsVH74TMkmH"
      },
      "outputs": [],
      "source": [
        "def CNNbuild(height, width, classes, channels):\n",
        "    model = Sequential()\n",
        "    \n",
        "    inputShape = (height, width, channels)\n",
        "    chanDim = -1\n",
        "    \n",
        "    if K.image_data_format() == 'channels_first':\n",
        "        inputShape = (channels, height, width)\n",
        "    model.add(Conv2D(32, (3,3), activation = 'relu', input_shape = inputShape))\n",
        "    model.add(MaxPooling2D(2,2))\n",
        "    model.add(BatchNormalization(axis = chanDim))\n",
        "    model.add(Dropout(0.2))\n",
        "\n",
        "    model.add(Conv2D(64, (3,3), activation = 'relu'))\n",
        "    model.add(MaxPooling2D(2,2))\n",
        "    model.add(BatchNormalization(axis = chanDim))\n",
        "    model.add(Dropout(0.2))\n",
        "\n",
        "    model.add(Conv2D(128, (3,3), activation = 'relu'))\n",
        "    model.add(MaxPooling2D(2,2))\n",
        "    model.add(BatchNormalization(axis = chanDim))\n",
        "    model.add(Dropout(0.2))\n",
        "\n",
        "    model.add(Flatten())\n",
        "    \n",
        "    model.add(Dense(512, activation = 'relu'))\n",
        "    model.add(BatchNormalization(axis = chanDim))\n",
        "    model.add(Dropout(0.5))\n",
        "    model.add(Dense(classes, activation = 'softmax'))\n",
        "    \n",
        "    return model"
      ]
    },
    {
      "cell_type": "code",
      "execution_count": 18,
      "metadata": {
        "colab": {
          "base_uri": "https://localhost:8080/"
        },
        "id": "um8RnvfhGh2M",
        "outputId": "d62bb2ae-2eec-4a47-d1bb-a40e623c6984"
      },
      "outputs": [
        {
          "output_type": "stream",
          "name": "stdout",
          "text": [
            "Model: \"sequential\"\n",
            "_________________________________________________________________\n",
            " Layer (type)                Output Shape              Param #   \n",
            "=================================================================\n",
            " conv2d (Conv2D)             (None, 48, 48, 32)        896       \n",
            "                                                                 \n",
            " max_pooling2d (MaxPooling2D  (None, 24, 24, 32)       0         \n",
            " )                                                               \n",
            "                                                                 \n",
            " batch_normalization (BatchN  (None, 24, 24, 32)       128       \n",
            " ormalization)                                                   \n",
            "                                                                 \n",
            " dropout (Dropout)           (None, 24, 24, 32)        0         \n",
            "                                                                 \n",
            " conv2d_1 (Conv2D)           (None, 22, 22, 64)        18496     \n",
            "                                                                 \n",
            " max_pooling2d_1 (MaxPooling  (None, 11, 11, 64)       0         \n",
            " 2D)                                                             \n",
            "                                                                 \n",
            " batch_normalization_1 (Batc  (None, 11, 11, 64)       256       \n",
            " hNormalization)                                                 \n",
            "                                                                 \n",
            " dropout_1 (Dropout)         (None, 11, 11, 64)        0         \n",
            "                                                                 \n",
            " conv2d_2 (Conv2D)           (None, 9, 9, 128)         73856     \n",
            "                                                                 \n",
            " max_pooling2d_2 (MaxPooling  (None, 4, 4, 128)        0         \n",
            " 2D)                                                             \n",
            "                                                                 \n",
            " batch_normalization_2 (Batc  (None, 4, 4, 128)        512       \n",
            " hNormalization)                                                 \n",
            "                                                                 \n",
            " dropout_2 (Dropout)         (None, 4, 4, 128)         0         \n",
            "                                                                 \n",
            " flatten (Flatten)           (None, 2048)              0         \n",
            "                                                                 \n",
            " dense (Dense)               (None, 512)               1049088   \n",
            "                                                                 \n",
            " batch_normalization_3 (Batc  (None, 512)              2048      \n",
            " hNormalization)                                                 \n",
            "                                                                 \n",
            " dropout_3 (Dropout)         (None, 512)               0         \n",
            "                                                                 \n",
            " dense_1 (Dense)             (None, 2)                 1026      \n",
            "                                                                 \n",
            "=================================================================\n",
            "Total params: 1,146,306\n",
            "Trainable params: 1,144,834\n",
            "Non-trainable params: 1,472\n",
            "_________________________________________________________________\n"
          ]
        }
      ],
      "source": [
        "model = CNNbuild(height = 50, width = 50, classes = 2, channels = 3)\n",
        "model.summary()"
      ]
    },
    {
      "cell_type": "code",
      "execution_count": 19,
      "metadata": {
        "id": "Wjv3RvwUJ0xu"
      },
      "outputs": [],
      "source": [
        "model.compile(loss = 'categorical_crossentropy', optimizer = 'Adam', metrics = ['accuracy'])"
      ]
    },
    {
      "cell_type": "markdown",
      "metadata": {
        "id": "cnVVUMDkx6aU"
      },
      "source": [
        "# Model Implementation and Evaluation"
      ]
    },
    {
      "cell_type": "code",
      "execution_count": null,
      "metadata": {
        "id": "l89pPblyKC1G"
      },
      "outputs": [],
      "source": [
        "fitting = model.fit(x_train, y_train, epochs = 20, batch_size = 256)"
      ]
    },
    {
      "cell_type": "code",
      "execution_count": null,
      "metadata": {
        "id": "5sQsV4xJPsWT"
      },
      "outputs": [],
      "source": [
        "predictions = model.evaluate(x_test, y_test)"
      ]
    },
    {
      "cell_type": "code",
      "execution_count": 22,
      "metadata": {
        "id": "4nbhemD7xFjC"
      },
      "outputs": [],
      "source": [
        "pred_label = model.predict(x_test)"
      ]
    },
    {
      "cell_type": "code",
      "execution_count": 23,
      "metadata": {
        "colab": {
          "base_uri": "https://localhost:8080/"
        },
        "id": "F7yG2IruWcil",
        "outputId": "d5ffc377-0b8a-44b2-e572-188fa02edef8"
      },
      "outputs": [
        {
          "output_type": "stream",
          "name": "stdout",
          "text": [
            "[1 1 0 ... 0 1 1]\n",
            "[1 1 0 ... 0 1 1]\n"
          ]
        }
      ],
      "source": [
        "pred_label = np.argmax(pred_label, axis=-1)\n",
        "true_label = np.argmax(y_test, axis = -1)\n",
        "\n",
        "print(pred_label)\n",
        "print(true_label)"
      ]
    },
    {
      "cell_type": "code",
      "execution_count": 24,
      "metadata": {
        "colab": {
          "base_uri": "https://localhost:8080/"
        },
        "id": "XPaIvcRFQNzc",
        "outputId": "76f1c51c-efb9-453a-8c4d-563c9417e7c8"
      },
      "outputs": [
        {
          "output_type": "stream",
          "name": "stdout",
          "text": [
            "              precision    recall  f1-score   support\n",
            "\n",
            "           0       0.94      0.96      0.95     12451\n",
            "           1       0.96      0.94      0.95     12352\n",
            "\n",
            "    accuracy                           0.95     24803\n",
            "   macro avg       0.95      0.95      0.95     24803\n",
            "weighted avg       0.95      0.95      0.95     24803\n",
            "\n",
            "Loss : 0.14709655940532684\n",
            "Accuracy : 0.9460145831108093\n"
          ]
        }
      ],
      "source": [
        "print(classification_report(true_label , pred_label))\n",
        "print(f'Loss : {predictions[0]}')\n",
        "print(f'Accuracy : {predictions[1]}')"
      ]
    },
    {
      "cell_type": "code",
      "execution_count": 25,
      "metadata": {
        "colab": {
          "base_uri": "https://localhost:8080/",
          "height": 519
        },
        "id": "W6toqM8hQOAu",
        "outputId": "3c427a93-2e19-4c11-ae20-ec69061cf6af"
      },
      "outputs": [
        {
          "output_type": "display_data",
          "data": {
            "text/plain": [
              "<Figure size 432x288 with 0 Axes>"
            ]
          },
          "metadata": {}
        },
        {
          "output_type": "display_data",
          "data": {
            "text/plain": [
              "<Figure size 864x576 with 1 Axes>"
            ],
            "image/png": "[encoded data removed]"
          },
          "metadata": {
            "needs_background": "light"
          }
        }
      ],
      "source": [
        "conf_matrix=confusion_matrix(true_label , pred_label)\n",
        "plt.figure()\n",
        "plot_confusion_matrix(conf_matrix, figsize=(12,8), hide_ticks=True, cmap=plt.cm.bone_r)\n",
        "plt.xticks(range(2), ['Healthy', 'Infected'], fontsize=16)\n",
        "plt.yticks(range(2), ['Healthy', 'Infected'], fontsize=16)\n",
        "plt.show()"
      ]
    }
  ],
  "metadata": {
    "colab": {
      "collapsed_sections": [
        "-BtcrigMyX5G"
      ],
      "provenance": []
    },
    "kernelspec": {
      "display_name": "Python 3",
      "language": "python",
      "name": "python3"
    },
    "language_info": {
      "codemirror_mode": {
        "name": "ipython",
        "version": 3
      },
      "file_extension": ".py",
      "mimetype": "text/x-python",
      "name": "python",
      "nbconvert_exporter": "python",
      "pygments_lexer": "ipython3",
      "version": "3.7.5"
    }
  },
  "nbformat": 4,
  "nbformat_minor": 0
}